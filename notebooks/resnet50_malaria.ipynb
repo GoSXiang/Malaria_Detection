{
  "nbformat": 4,
  "nbformat_minor": 0,
  "metadata": {
    "colab": {
      "name": "resnet50_malaria.ipynb",
      "provenance": [],
      "collapsed_sections": []
    },
    "kernelspec": {
      "name": "python3",
      "display_name": "Python 3"
    },
    "accelerator": "GPU"
  },
  "cells": [
    {
      "cell_type": "markdown",
      "metadata": {
        "id": "Usw_wzuU8AKV",
        "colab_type": "text"
      },
      "source": [
        "## Objective\n",
        "\n",
        "Here, the pretrained ResNet50 model is used for transfer learning on the same malaria dataset. The aim is to train the model to a good accuracy, followed by investigating what it is learning."
      ]
    },
    {
      "cell_type": "code",
      "metadata": {
        "id": "6t_F5EJa8P3j",
        "colab_type": "code",
        "outputId": "27a141a9-8a71-4d17-f83b-76ce52469ce5",
        "colab": {
          "base_uri": "https://localhost:8080/",
          "height": 35
        }
      },
      "source": [
        "from google.colab import drive\n",
        "drive.mount('/content/drive',force_remount=True)"
      ],
      "execution_count": 2,
      "outputs": [
        {
          "output_type": "stream",
          "text": [
            "Mounted at /content/drive\n"
          ],
          "name": "stdout"
        }
      ]
    },
    {
      "cell_type": "markdown",
      "metadata": {
        "id": "AnVZAazm8cca",
        "colab_type": "text"
      },
      "source": [
        "## Standard Imports"
      ]
    },
    {
      "cell_type": "code",
      "metadata": {
        "id": "i5b_USfk8jnz",
        "colab_type": "code",
        "colab": {}
      },
      "source": [
        "#!pip install innvestigate"
      ],
      "execution_count": 0,
      "outputs": []
    },
    {
      "cell_type": "code",
      "metadata": {
        "id": "ZrKSdPLo8UUD",
        "colab_type": "code",
        "colab": {}
      },
      "source": [
        "import tensorflow as tf\n",
        "tf.logging.set_verbosity(tf.logging.ERROR)\n",
        "\n",
        "import sys\n",
        "import pandas as pd\n",
        "from keras.preprocessing.image import ImageDataGenerator\n",
        "\n",
        "# Run this if you are using google colab\n",
        "sys.path.append('/content/drive/My Drive/')\n",
        "\n",
        "from src.utils import *\n",
        "from src.visualisation import *\n",
        "\n",
        "from keras.models import Sequential\n",
        "from keras.layers import Activation, Dropout, Flatten, Dense\n",
        "\n",
        "from keras.applications.resnet50 import preprocess_input\n",
        "from keras.applications.resnet50 import ResNet50\n",
        "from keras import layers, optimizers"
      ],
      "execution_count": 0,
      "outputs": []
    },
    {
      "cell_type": "markdown",
      "metadata": {
        "id": "S6-0Qo1FAtQS",
        "colab_type": "text"
      },
      "source": [
        "## Create directory to merge image"
      ]
    },
    {
      "cell_type": "code",
      "metadata": {
        "id": "_RY3bmbcAxl5",
        "colab_type": "code",
        "colab": {}
      },
      "source": [
        "!unzip -q 'drive/My Drive/cell-images-for-detecting-malaria.zip'\n",
        "\n",
        "# Create 'Combined' directory and copy all the png images over\n",
        "# Note that the name 'Combined' must match that in the directory of the generator\n",
        "\n",
        "!mkdir Combined \n",
        "!cp -a cell_images/cell_images/Parasitized/. Combined\n",
        "!cp -a cell_images/cell_images/Uninfected/. Combined"
      ],
      "execution_count": 0,
      "outputs": []
    },
    {
      "cell_type": "markdown",
      "metadata": {
        "id": "XRotCaZp-dgK",
        "colab_type": "text"
      },
      "source": [
        "## Get data"
      ]
    },
    {
      "cell_type": "code",
      "metadata": {
        "id": "I377tWWW-SYE",
        "colab_type": "code",
        "colab": {}
      },
      "source": [
        "# Read from the csv \n",
        "df_train = pd.read_csv('drive/My Drive/data/malaria_train_combined.csv')\n",
        "df_val = pd.read_csv('drive/My Drive/data/malaria_val_combined.csv')\n",
        "df_test = pd.read_csv('drive/My Drive/data/malaria_test_combined.csv')\n",
        "\n",
        "df_train['labels'] = df_train['labels'].astype(str)\n",
        "df_val['labels'] = df_val['labels'].astype(str)\n",
        "df_test['labels'] = df_test['labels'].astype(str)"
      ],
      "execution_count": 0,
      "outputs": []
    },
    {
      "cell_type": "markdown",
      "metadata": {
        "id": "lVU8nCcX-nRi",
        "colab_type": "text"
      },
      "source": [
        "## Define generators and collect images from directory"
      ]
    },
    {
      "cell_type": "code",
      "metadata": {
        "id": "rbNioiSw-gEi",
        "colab_type": "code",
        "colab": {}
      },
      "source": [
        "# Create generators manually\n",
        "train_datagen = ImageDataGenerator(\n",
        "     preprocessing_function=lambda x: preprocess_input(x),\n",
        "     shear_range=0.2,\n",
        "     zoom_range=0.2,\n",
        "     #width_shift_range=0.2,\n",
        "     #height_shift_range=0.2,\n",
        "     horizontal_flip=True)\n",
        "  \n",
        "val_datagen = ImageDataGenerator(preprocessing_function=lambda x: preprocess_input(x))"
      ],
      "execution_count": 0,
      "outputs": []
    },
    {
      "cell_type": "code",
      "metadata": {
        "id": "m4Z_VlYc_0ai",
        "colab_type": "code",
        "outputId": "0b495944-0f0a-4614-89e4-40b02166d0af",
        "colab": {
          "base_uri": "https://localhost:8080/",
          "height": 159
        }
      },
      "source": [
        "# Get the generators\n",
        "train_gen, valid_gen, test_gen = fit_into_generators(df_train,df_val,df_test,train_datagen, val_datagen,batch_size=32,shape=(224,224))"
      ],
      "execution_count": 11,
      "outputs": [
        {
          "output_type": "stream",
          "text": [
            "Found 19291 validated image filenames belonging to 2 classes.\n",
            "Found 6199 validated image filenames belonging to 2 classes.\n",
            "Found 2068 validated image filenames belonging to 2 classes.\n"
          ],
          "name": "stdout"
        },
        {
          "output_type": "stream",
          "text": [
            "/usr/local/lib/python3.6/dist-packages/keras_preprocessing/image/dataframe_iterator.py:273: UserWarning: Found 1 invalid image filename(s) in x_col=\"train_combined\". These filename(s) will be ignored.\n",
            "  .format(n_invalid, x_col)\n",
            "/usr/local/lib/python3.6/dist-packages/keras_preprocessing/image/dataframe_iterator.py:273: UserWarning: Found 1 invalid image filename(s) in x_col=\"val_combined\". These filename(s) will be ignored.\n",
            "  .format(n_invalid, x_col)\n"
          ],
          "name": "stderr"
        }
      ]
    },
    {
      "cell_type": "markdown",
      "metadata": {
        "id": "XCNmWn-UUgg-",
        "colab_type": "text"
      },
      "source": [
        "## Load PreTrained ResNet50 and finetune"
      ]
    },
    {
      "cell_type": "code",
      "metadata": {
        "id": "UjH0hVVsBHGq",
        "colab_type": "code",
        "outputId": "0adcd432-efa8-41ed-ef1a-3210c6238879",
        "colab": {
          "base_uri": "https://localhost:8080/",
          "height": 261
        }
      },
      "source": [
        "# Augmented versions of a particular sample\n",
        "plot_augmented_images(train_gen,batch_index=2,sample_index=0)"
      ],
      "execution_count": 12,
      "outputs": [
        {
          "output_type": "stream",
          "text": [
            "Clipping input data to the valid range for imshow with RGB data ([0..1] for floats or [0..255] for integers).\n",
            "Clipping input data to the valid range for imshow with RGB data ([0..1] for floats or [0..255] for integers).\n",
            "Clipping input data to the valid range for imshow with RGB data ([0..1] for floats or [0..255] for integers).\n",
            "Clipping input data to the valid range for imshow with RGB data ([0..1] for floats or [0..255] for integers).\n"
          ],
          "name": "stderr"
        },
        {
          "output_type": "display_data",
          "data": {
            "image/png": "[encoded data removed]",
            "text/plain": [
              "<Figure size 720x720 with 4 Axes>"
            ]
          },
          "metadata": {
            "tags": []
          }
        }
      ]
    },
    {
      "cell_type": "code",
      "metadata": {
        "id": "IMx8tu1t8fuF",
        "colab_type": "code",
        "outputId": "03f644c5-1e14-426f-fb9c-754e92abcc22",
        "colab": {
          "base_uri": "https://localhost:8080/",
          "height": 107
        }
      },
      "source": [
        "\n",
        "rn50 = ResNet50(weights='imagenet', include_top=False, input_shape=(224, 224, 3))\n",
        "\n",
        "model = Sequential()\n",
        "model.add(rn50)\n",
        "model.add(layers.Flatten())\n",
        "model.add(layers.Dense(256, use_bias=False))\n",
        "model.add(layers.BatchNormalization())\n",
        "model.add(layers.Activation(\"relu\"))\n",
        "model.add(layers.Dropout(0.5))\n",
        "model.add(layers.Dense(2, activation = \"softmax\"))\n"
      ],
      "execution_count": 13,
      "outputs": [
        {
          "output_type": "stream",
          "text": [
            "/usr/local/lib/python3.6/dist-packages/keras_applications/resnet50.py:265: UserWarning: The output shape of `ResNet50(include_top=False)` has been changed since Keras 2.2.0.\n",
            "  warnings.warn('The output shape of `ResNet50(include_top=False)` '\n"
          ],
          "name": "stderr"
        },
        {
          "output_type": "stream",
          "text": [
            "Downloading data from https://github.com/fchollet/deep-learning-models/releases/download/v0.2/resnet50_weights_tf_dim_ordering_tf_kernels_notop.h5\n",
            "94658560/94653016 [==============================] - 4s 0us/step\n"
          ],
          "name": "stdout"
        }
      ]
    },
    {
      "cell_type": "code",
      "metadata": {
        "id": "fS0w9jXiBj96",
        "colab_type": "code",
        "outputId": "99cf585e-1df3-4c0f-e776-216f1185c38b",
        "colab": {
          "base_uri": "https://localhost:8080/",
          "height": 399
        }
      },
      "source": [
        "# Unfreeze starting from the 5th convolution layer, block16\n",
        "\n",
        "rn50.Trainable=True\n",
        "\n",
        "set_trainable=False\n",
        "for layer in rn50.layers:\n",
        "    if layer.name == 'res5c_branch2c':\n",
        "        set_trainable = True\n",
        "    if set_trainable:\n",
        "        layer.trainable = True\n",
        "    else:\n",
        "        layer.trainable = False\n",
        "\n",
        "model.summary()"
      ],
      "execution_count": 14,
      "outputs": [
        {
          "output_type": "stream",
          "text": [
            "Model: \"sequential_1\"\n",
            "_________________________________________________________________\n",
            "Layer (type)                 Output Shape              Param #   \n",
            "=================================================================\n",
            "resnet50 (Model)             (None, 7, 7, 2048)        23587712  \n",
            "_________________________________________________________________\n",
            "flatten_1 (Flatten)          (None, 100352)            0         \n",
            "_________________________________________________________________\n",
            "dense_1 (Dense)              (None, 256)               25690112  \n",
            "_________________________________________________________________\n",
            "batch_normalization_1 (Batch (None, 256)               1024      \n",
            "_________________________________________________________________\n",
            "activation_50 (Activation)   (None, 256)               0         \n",
            "_________________________________________________________________\n",
            "dropout_1 (Dropout)          (None, 256)               0         \n",
            "_________________________________________________________________\n",
            "dense_2 (Dense)              (None, 2)                 514       \n",
            "=================================================================\n",
            "Total params: 49,279,362\n",
            "Trainable params: 26,745,858\n",
            "Non-trainable params: 22,533,504\n",
            "_________________________________________________________________\n"
          ],
          "name": "stdout"
        }
      ]
    },
    {
      "cell_type": "code",
      "metadata": {
        "id": "GEkIQbbmBwst",
        "colab_type": "code",
        "colab": {}
      },
      "source": [
        "# Compile the model\n",
        "model.compile(optimizers.Adam(0.01), loss = \"categorical_crossentropy\", metrics=['accuracy'])"
      ],
      "execution_count": 0,
      "outputs": []
    },
    {
      "cell_type": "code",
      "metadata": {
        "id": "ShUafi2QHQKZ",
        "colab_type": "code",
        "outputId": "560ecf27-2ee0-4356-846e-88b5f88af32d",
        "colab": {
          "base_uri": "https://localhost:8080/",
          "height": 537
        }
      },
      "source": [
        "from keras.callbacks import EarlyStopping, ReduceLROnPlateau\n",
        "\n",
        "STEP_SIZE_TRAIN=train_gen.n//train_gen.batch_size\n",
        "STEP_SIZE_TEST=valid_gen.n//valid_gen.batch_size\n",
        "\n",
        "# If no improvement in validation loss, we stop the training\n",
        "earlystopper = EarlyStopping(monitor='val_loss', patience=5, verbose=1, restore_best_weights=True)\n",
        "\n",
        "# If no improvement is seen for a 'patience' number of epochs, the learning rate is reduced.\n",
        "reducel = ReduceLROnPlateau(monitor='val_loss', patience=1, verbose=1, factor=0.1)\n",
        "\n",
        "history = model.fit_generator(train_gen, steps_per_epoch=STEP_SIZE_TRAIN, \n",
        "                    validation_data=valid_gen,\n",
        "                    validation_steps=STEP_SIZE_TEST,\n",
        "                    epochs=10,\n",
        "                   callbacks=[reducel, earlystopper])"
      ],
      "execution_count": 16,
      "outputs": [
        {
          "output_type": "stream",
          "text": [
            "Epoch 1/10\n",
            "602/602 [==============================] - 359s 597ms/step - loss: 0.2279 - acc: 0.9185 - val_loss: 0.1829 - val_acc: 0.9265\n",
            "Epoch 2/10\n",
            "602/602 [==============================] - 350s 582ms/step - loss: 0.1702 - acc: 0.9381 - val_loss: 0.1390 - val_acc: 0.9486\n",
            "Epoch 3/10\n",
            "602/602 [==============================] - 349s 580ms/step - loss: 0.1615 - acc: 0.9430 - val_loss: 0.1404 - val_acc: 0.9509\n",
            "\n",
            "Epoch 00003: ReduceLROnPlateau reducing learning rate to 0.0009999999776482583.\n",
            "Epoch 4/10\n",
            "602/602 [==============================] - 348s 578ms/step - loss: 0.1356 - acc: 0.9508 - val_loss: 0.1308 - val_acc: 0.9533\n",
            "Epoch 5/10\n",
            "602/602 [==============================] - 349s 579ms/step - loss: 0.1273 - acc: 0.9541 - val_loss: 0.1292 - val_acc: 0.9525\n",
            "Epoch 6/10\n",
            "602/602 [==============================] - 348s 578ms/step - loss: 0.1261 - acc: 0.9552 - val_loss: 0.1297 - val_acc: 0.9515\n",
            "\n",
            "Epoch 00006: ReduceLROnPlateau reducing learning rate to 9.999999310821295e-05.\n",
            "Epoch 7/10\n",
            "602/602 [==============================] - 348s 579ms/step - loss: 0.1158 - acc: 0.9569 - val_loss: 0.1263 - val_acc: 0.9538\n",
            "Epoch 8/10\n",
            "602/602 [==============================] - 349s 579ms/step - loss: 0.1128 - acc: 0.9596 - val_loss: 0.1268 - val_acc: 0.9533\n",
            "\n",
            "Epoch 00008: ReduceLROnPlateau reducing learning rate to 9.999999019782991e-06.\n",
            "Epoch 9/10\n",
            "602/602 [==============================] - 349s 579ms/step - loss: 0.1122 - acc: 0.9593 - val_loss: 0.1293 - val_acc: 0.9530\n",
            "\n",
            "Epoch 00009: ReduceLROnPlateau reducing learning rate to 9.99999883788405e-07.\n",
            "Epoch 10/10\n",
            "602/602 [==============================] - 348s 578ms/step - loss: 0.1146 - acc: 0.9571 - val_loss: 0.1292 - val_acc: 0.9525\n",
            "\n",
            "Epoch 00010: ReduceLROnPlateau reducing learning rate to 9.99999883788405e-08.\n"
          ],
          "name": "stdout"
        }
      ]
    },
    {
      "cell_type": "code",
      "metadata": {
        "id": "SG91-xNFHTVW",
        "colab_type": "code",
        "colab": {}
      },
      "source": [
        "#model.save_weights('finetuned_resnet50_weights_for_predicting_malaria.h5')"
      ],
      "execution_count": 0,
      "outputs": []
    },
    {
      "cell_type": "code",
      "metadata": {
        "id": "aLx4qWFNf5_P",
        "colab_type": "code",
        "colab": {
          "base_uri": "https://localhost:8080/",
          "height": 35
        },
        "outputId": "1f3a17d2-5719-43b4-829b-b9ac8b992502"
      },
      "source": [
        "model.evaluate_generator(test_gen)"
      ],
      "execution_count": 51,
      "outputs": [
        {
          "output_type": "execute_result",
          "data": {
            "text/plain": [
              "[0.14404538587975088, 0.9492263054939949]"
            ]
          },
          "metadata": {
            "tags": []
          },
          "execution_count": 51
        }
      ]
    },
    {
      "cell_type": "code",
      "metadata": {
        "id": "mgnK3SitUTF-",
        "colab_type": "code",
        "colab": {}
      },
      "source": [
        "# Get the results\n",
        "results = history.history"
      ],
      "execution_count": 0,
      "outputs": []
    },
    {
      "cell_type": "markdown",
      "metadata": {
        "id": "toEPDDFOUWu1",
        "colab_type": "text"
      },
      "source": [
        "## Model Epoch Performances"
      ]
    },
    {
      "cell_type": "code",
      "metadata": {
        "id": "f_wsqq4VUYOn",
        "colab_type": "code",
        "colab": {
          "base_uri": "https://localhost:8080/",
          "height": 955
        },
        "outputId": "145dc656-d8fa-4ffb-b39e-8c0116d03704"
      },
      "source": [
        "# summarize history for accuracy\n",
        "plt.figure(figsize=(10,7.5))\n",
        "plt.plot(results['acc'])\n",
        "plt.plot(results['val_acc'])\n",
        "plt.title('Model accuracy')\n",
        "plt.ylabel('Accuracy')\n",
        "plt.xlabel('Epoch')\n",
        "plt.legend(['Train', 'Val'], loc='upper left')\n",
        "plt.show()\n",
        "\n",
        "# summarize history for loss\n",
        "plt.figure(figsize=(10,7.5))\n",
        "plt.plot(results['loss'])\n",
        "plt.plot(results['val_loss'])\n",
        "plt.title('Model loss')\n",
        "plt.ylabel('Loss')\n",
        "plt.xlabel('Epoch')\n",
        "plt.legend(['Train', 'Val'], loc='upper left')\n",
        "plt.show()"
      ],
      "execution_count": 30,
      "outputs": [
        {
          "output_type": "display_data",
          "data": {
            "image/png": "[encoded data removed]",
            "text/plain": [
              "<Figure size 720x540 with 1 Axes>"
            ]
          },
          "metadata": {
            "tags": []
          }
        },
        {
          "output_type": "display_data",
          "data": {
            "image/png": "[encoded data removed]",
            "text/plain": [
              "<Figure size 720x540 with 1 Axes>"
            ]
          },
          "metadata": {
            "tags": []
          }
        }
      ]
    },
    {
      "cell_type": "markdown",
      "metadata": {
        "id": "ykeFpKPdbWUI",
        "colab_type": "text"
      },
      "source": [
        "Similarly, we will look at what the finetuned ResNet50 model is learning in a separate notebook. "
      ]
    }
  ]
}